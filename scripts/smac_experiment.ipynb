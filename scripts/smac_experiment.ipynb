{
 "cells": [
  {
   "cell_type": "code",
   "execution_count": 1,
   "id": "6321bb61",
   "metadata": {},
   "outputs": [],
   "source": [
    "import csv\n",
    "import multiprocessing\n",
    "import os\n",
    "\n",
    "from multiprocess import Pool\n",
    "from smac_functions import run_smac_experiment"
   ]
  },
  {
   "cell_type": "code",
   "execution_count": 2,
   "id": "74c76119",
   "metadata": {},
   "outputs": [
    {
     "data": {
      "text/plain": [
       "16"
      ]
     },
     "execution_count": 2,
     "metadata": {},
     "output_type": "execute_result"
    }
   ],
   "source": [
    "os.cpu_count()"
   ]
  },
  {
   "cell_type": "code",
   "execution_count": 5,
   "id": "af619042",
   "metadata": {},
   "outputs": [],
   "source": [
    "max_pool = 13"
   ]
  },
  {
   "cell_type": "code",
   "execution_count": 1,
   "id": "f36b7095",
   "metadata": {},
   "outputs": [],
   "source": [
    "evaluation_limits = [50000]\n",
    "dimensions_list = [10]\n",
    "bounds=[(-5, 5)]\n",
    "hms_level_configurations = [\"sea_2\", \"cma_2\", \"cma_3\"]\n",
    "func_sets = range(1, 25)"
   ]
  },
  {
   "cell_type": "code",
   "execution_count": 4,
   "id": "8d62b97e",
   "metadata": {},
   "outputs": [],
   "source": [
    "parameters = []\n",
    "for i in range(5):\n",
    "    for evaluation_limit in evaluation_limits:\n",
    "        for dimensions in dimensions_list:\n",
    "            for level_configuration in hms_level_configurations:\n",
    "                for func_set in func_sets:\n",
    "                    parameters.append({'eval': evaluation_limit, 'dim': dimensions, 'config': level_configuration, 'test_problem': func_set, 'bounds': bounds})"
   ]
  },
  {
   "cell_type": "code",
   "execution_count": 6,
   "id": "96527318",
   "metadata": {},
   "outputs": [
    {
     "data": {
      "text/plain": [
       "360"
      ]
     },
     "execution_count": 6,
     "metadata": {},
     "output_type": "execute_result"
    }
   ],
   "source": [
    "len(parameters)"
   ]
  },
  {
   "cell_type": "code",
   "execution_count": null,
   "id": "b5c15e35",
   "metadata": {},
   "outputs": [],
   "source": [
    "header = ['HMS variant', 'evaluation factor', 'dimensions', 'test suite', 'config', 'fitness']\n",
    "with open('backup_results.csv', 'a') as f:\n",
    "    writer = csv.writer(f, delimiter=';')\n",
    "    writer.writerow(header)"
   ]
  },
  {
   "cell_type": "code",
   "execution_count": null,
   "id": "bbb74b11",
   "metadata": {},
   "outputs": [
    {
     "name": "stderr",
     "output_type": "stream",
     "text": [
      "  0%|                                                                                            | 0/25 [00:00<?, ?it/s]"
     ]
    }
   ],
   "source": [
    "with Pool(max_pool) as p:\n",
    "    pool_outputs = list(\n",
    "        p.imap(run_smac_experiment,\n",
    "                parameters),\n",
    "        total=len(parameters)\n",
    "    )"
   ]
  },
  {
   "cell_type": "code",
   "execution_count": null,
   "id": "fb1c332d",
   "metadata": {},
   "outputs": [],
   "source": [
    "header = ['HMS variant', 'evaluation factor', 'dimensions', 'test suite', 'config', 'fitness']\n",
    "with open('smac_results.csv', 'a') as f:\n",
    "    writer = csv.writer(f, delimiter=';')\n",
    "    writer.writerow(header)"
   ]
  },
  {
   "cell_type": "code",
   "execution_count": null,
   "id": "a7254de1",
   "metadata": {},
   "outputs": [],
   "source": [
    "for result in pool_outputs:\n",
    "    with open('smac_results.csv', 'a') as f:\n",
    "            writer = csv.writer(f, delimiter=\";\")\n",
    "            writer.writerow(result)"
   ]
  }
 ],
 "metadata": {
  "kernelspec": {
   "display_name": "venv",
   "language": "python",
   "name": "python3"
  },
  "language_info": {
   "codemirror_mode": {
    "name": "ipython",
    "version": 3
   },
   "file_extension": ".py",
   "mimetype": "text/x-python",
   "name": "python",
   "nbconvert_exporter": "python",
   "pygments_lexer": "ipython3",
   "version": "3.9.13"
  },
  "vscode": {
   "interpreter": {
    "hash": "e0b29319f0652a2011927bd165e5082b79c32dbe3118e4dfbea10ff6959807ca"
   }
  }
 },
 "nbformat": 4,
 "nbformat_minor": 5
}
