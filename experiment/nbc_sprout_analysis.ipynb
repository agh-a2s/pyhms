{
 "cells": [
  {
   "cell_type": "markdown",
   "metadata": {},
   "source": [
    "### Import necessary tools"
   ]
  },
  {
   "cell_type": "code",
   "execution_count": 1,
   "metadata": {},
   "outputs": [],
   "source": [
    "import os\n",
    "import sys\n",
    "module_path = os.path.abspath(os.path.join('..'))\n",
    "if module_path not in sys.path:\n",
    "    sys.path.append(module_path)"
   ]
  },
  {
   "cell_type": "code",
   "execution_count": 2,
   "metadata": {},
   "outputs": [],
   "source": [
    "from cma.bbobbenchmarks import instantiate\n",
    "from leap_ec.problem import FunctionProblem\n",
    "import numpy as np"
   ]
  },
  {
   "cell_type": "code",
   "execution_count": 3,
   "metadata": {},
   "outputs": [],
   "source": [
    "from pyhms.config import TreeConfig, CMALevelConfig, EALevelConfig, DELevelConfig\n",
    "from pyhms.tree import DemeTree\n",
    "from pyhms.demes.single_pop_eas.sea import SEA\n",
    "from pyhms.sprout.sprout_mechanisms import SproutMechanism\n",
    "from pyhms.sprout.sprout_filters import NBC_FarEnough, DemeLimit, LevelLimit\n",
    "from pyhms.sprout.sprout_generators import NBC_Generator\n",
    "from pyhms.stop_conditions.usc import dont_stop, metaepoch_limit"
   ]
  },
  {
   "cell_type": "markdown",
   "metadata": {},
   "source": [
    "### Prepare function instances\n",
    "Diverse test set with focus on multimodal problems. 2 dimensional for visualization."
   ]
  },
  {
   "cell_type": "code",
   "execution_count": 4,
   "metadata": {},
   "outputs": [],
   "source": [
    "separable_rastrigin = instantiate(3, 1)\n",
    "attractive_sector = instantiate(6, 1)\n",
    "step_elipsoid = instantiate(7, 1)\n",
    "bent_cigar = instantiate(12, 1)\n",
    "asymetric_rastrigin = instantiate(15, 1)\n",
    "griewank_rosenbrock = instantiate(19, 1)\n",
    "katsuura = instantiate(23, 1)\n",
    "lunacek_rastrigin = instantiate(24, 1)\n",
    "\n",
    "testbed ={\"separable_rastrigin(3)\": separable_rastrigin,\n",
    "          \"attractive_sector(6)\": attractive_sector,\n",
    "          \"step_elipsoid(7)\": step_elipsoid,\n",
    "          \"bent_cigar(12)\": bent_cigar,\n",
    "          \"asymetric_rastrigin(15)\": asymetric_rastrigin,\n",
    "          \"griewank_rosenbrock(19)\": griewank_rosenbrock,\n",
    "          \"katsuura(23)\": katsuura,\n",
    "          \"lunacek_rastrigin(24)\": lunacek_rastrigin\n",
    "          }"
   ]
  },
  {
   "cell_type": "markdown",
   "metadata": {},
   "source": [
    "### Algorithm setup"
   ]
  },
  {
   "cell_type": "code",
   "execution_count": 10,
   "metadata": {},
   "outputs": [],
   "source": [
    "bounds_base = [(-5.0, 5.0)]\n",
    "gsc = metaepoch_limit(35)\n",
    "lvl_2_lsc = dont_stop()\n",
    "lvl_1_generations = 1\n",
    "lvl_2_generations = 8\n",
    "pop_size = 40\n",
    "mutation_std = 1.0\n",
    "sigma0 = 2.0\n",
    "\n",
    "dimensionality = 10\n",
    "\n",
    "sprout_cond = SproutMechanism(NBC_Generator(2.0, 0.4), [NBC_FarEnough(2.0, 2), DemeLimit(1)], [LevelLimit(6)])"
   ]
  },
  {
   "cell_type": "code",
   "execution_count": 7,
   "metadata": {},
   "outputs": [],
   "source": [
    "def setup_hms_for_bbob(function_problem, bounds):\n",
    "\n",
    "    config = [\n",
    "    EALevelConfig(\n",
    "        ea_class=SEA, \n",
    "        generations=lvl_1_generations, \n",
    "        problem=function_problem, \n",
    "        bounds=bounds, \n",
    "        pop_size=pop_size,\n",
    "        mutation_std=mutation_std,\n",
    "        lsc=dont_stop()\n",
    "        ),\n",
    "    CMALevelConfig(\n",
    "        generations=lvl_2_generations,\n",
    "        problem=function_problem, \n",
    "        bounds=bounds,\n",
    "        sigma0=sigma0,\n",
    "        lsc=lvl_2_lsc\n",
    "        )\n",
    "    ]\n",
    "\n",
    "    config = TreeConfig(config, gsc, sprout_cond)\n",
    "    return DemeTree(config)"
   ]
  },
  {
   "cell_type": "markdown",
   "metadata": {},
   "source": [
    "### Benchmark\n",
    "Initial quality evaluation on budget similar to GECCO paper."
   ]
  },
  {
   "cell_type": "code",
   "execution_count": 8,
   "metadata": {},
   "outputs": [
    {
     "name": "stdout",
     "output_type": "stream",
     "text": [
      "Running separable_rastrigin(3)\n",
      "Best fitness: 4.974926600199808\n",
      "Numer of demes: 2\n",
      "Evaluation budget: 14750\n",
      "-\n",
      "Running attractive_sector(6)\n",
      "Best fitness: 4.869440731880559e-05\n",
      "Numer of demes: 6\n",
      "Evaluation budget: 15650\n",
      "-\n",
      "Running step_elipsoid(7)\n",
      "Best fitness: 0.03949616931494404\n",
      "Numer of demes: 6\n",
      "Evaluation budget: 15110\n",
      "-\n",
      "Running bent_cigar(12)\n",
      "Best fitness: 0.24381627095863223\n",
      "Numer of demes: 3\n",
      "Evaluation budget: 15070\n",
      "-\n",
      "Running asymetric_rastrigin(15)\n",
      "Best fitness: 12.934457746102566\n",
      "Numer of demes: 2\n",
      "Evaluation budget: 14750\n",
      "-\n",
      "Running griewank_rosenbrock(19)\n",
      "Best fitness: 5.30956185902933\n",
      "Numer of demes: 4\n",
      "Evaluation budget: 15350\n",
      "-\n",
      "Running katsuura(23)\n",
      "Best fitness: 6.076413502537769\n",
      "Numer of demes: 5\n",
      "Evaluation budget: 15530\n",
      "-\n",
      "Running lunacek_rastrigin(24)\n",
      "Best fitness: 79.67485587562335\n",
      "Numer of demes: 3\n",
      "Evaluation budget: 15090\n",
      "-\n"
     ]
    }
   ],
   "source": [
    "for name, problem in testbed.items():\n",
    "    hms_tree = setup_hms_for_bbob(FunctionProblem(problem[0], maximize=False), bounds_base*dimensionality)\n",
    "    print(f\"Running {name}\")\n",
    "    while not hms_tree._gsc(hms_tree):\n",
    "        hms_tree.metaepoch_count += 1\n",
    "        hms_tree.run_metaepoch()\n",
    "        if not hms_tree._gsc(hms_tree):\n",
    "            hms_tree.run_sprout()\n",
    "\n",
    "    f = lambda x: lvl_1_generations if x == 1 else lvl_2_generations\n",
    "    print(f\"Best fitness: {np.max(hms_tree.optima).fitness - problem[1]}\")\n",
    "    print(f\"Numer of demes: {len(hms_tree.all_demes)}\")\n",
    "    print(f\"Evaluation budget: {np.sum([np.sum([len(pop) for pop in deme.history])*(f(level)) for level, deme in hms_tree.all_demes])}\")\n",
    "    print('-')"
   ]
  },
  {
   "cell_type": "code",
   "execution_count": 13,
   "metadata": {},
   "outputs": [
    {
     "name": "stdout",
     "output_type": "stream",
     "text": [
      "Running separable_rastrigin(3)\n",
      "Best fitness: 11.713368947516107\n",
      "Numer of demes: 3.32\n",
      "Evaluation budget: 15126.6\n",
      "-\n",
      "Running attractive_sector(6)\n",
      "Best fitness: 4.571526729634456e-05\n",
      "Numer of demes: 6.04\n",
      "Evaluation budget: 15818.0\n",
      "-\n",
      "Running step_elipsoid(7)\n",
      "Best fitness: 0.558793602925852\n",
      "Numer of demes: 6.96\n",
      "Evaluation budget: 15420.2\n",
      "-\n",
      "Running bent_cigar(12)\n",
      "Best fitness: 2.9314852825115802\n",
      "Numer of demes: 2.84\n",
      "Evaluation budget: 14988.0\n",
      "-\n",
      "Running asymetric_rastrigin(15)\n",
      "Best fitness: 10.607915733871812\n",
      "Numer of demes: 3.18\n",
      "Evaluation budget: 15118.4\n",
      "-\n",
      "Running griewank_rosenbrock(19)\n",
      "Best fitness: 5.631038627586743\n",
      "Numer of demes: 3.4\n",
      "Evaluation budget: 15132.6\n",
      "-\n",
      "Running katsuura(23)\n",
      "Best fitness: 4.111493924286301\n",
      "Numer of demes: 7.0\n",
      "Evaluation budget: 16101.0\n",
      "-\n",
      "Running lunacek_rastrigin(24)\n",
      "Best fitness: 48.83613418442732\n",
      "Numer of demes: 2.8\n",
      "Evaluation budget: 15000.0\n",
      "-\n"
     ]
    }
   ],
   "source": [
    "for name, problem in testbed.items():\n",
    "    print(f\"Running {name}\")\n",
    "    f = lambda x: lvl_1_generations if x == 1 else lvl_2_generations\n",
    "    bests = []\n",
    "    demes = []\n",
    "    evaluations = []\n",
    "    for _ in range(50):\n",
    "        hms_tree = setup_hms_for_bbob(FunctionProblem(problem[0], maximize=False), bounds_base*dimensionality)\n",
    "        while not hms_tree._gsc(hms_tree):\n",
    "            hms_tree.metaepoch_count += 1\n",
    "            hms_tree.run_metaepoch()\n",
    "            if not hms_tree._gsc(hms_tree):\n",
    "                hms_tree.run_sprout()\n",
    "        bests += [np.max(hms_tree.optima).fitness - problem[1]]\n",
    "        demes.append(len(hms_tree.all_demes))\n",
    "        evaluations.append(np.sum([np.sum([len(pop) for pop in deme.history])*(f(level)) for level, deme in hms_tree.all_demes]))\n",
    "\n",
    "    print(f\"Best fitness: {np.mean(bests)}\")\n",
    "    print(f\"Numer of demes: {np.mean(demes)}\")\n",
    "    print(f\"Evaluation budget: {np.mean(evaluations)}\")\n",
    "    print('-')"
   ]
  },
  {
   "cell_type": "markdown",
   "metadata": {},
   "source": [
    "#### Testing Differential Evolution root deme"
   ]
  },
  {
   "cell_type": "code",
   "execution_count": 5,
   "metadata": {},
   "outputs": [],
   "source": [
    "bounds_base = [(-5.0, 5.0)]\n",
    "gsc = metaepoch_limit(35)\n",
    "lvl_2_lsc = dont_stop()\n",
    "lvl_1_generations = 1\n",
    "lvl_2_generations = 8\n",
    "pop_size = 40\n",
    "dither = True\n",
    "sigma0 = 2.0\n",
    "\n",
    "dimensionality = 10\n",
    "\n",
    "sprout_cond = SproutMechanism(NBC_Generator(2.0, 0.4), [NBC_FarEnough(2.0, 2), DemeLimit(1)], [LevelLimit(6)])"
   ]
  },
  {
   "cell_type": "code",
   "execution_count": 6,
   "metadata": {},
   "outputs": [],
   "source": [
    "def setup_hms_with_de_for_bbob(function_problem, bounds):\n",
    "\n",
    "    config = [\n",
    "    DELevelConfig(\n",
    "        generations=lvl_1_generations, \n",
    "        problem=function_problem, \n",
    "        bounds=bounds, \n",
    "        pop_size=pop_size,\n",
    "        dither=dither,\n",
    "        lsc=dont_stop()\n",
    "        ),\n",
    "    CMALevelConfig(\n",
    "        generations=lvl_2_generations,\n",
    "        problem=function_problem, \n",
    "        bounds=bounds,\n",
    "        sigma0=sigma0,\n",
    "        lsc=lvl_2_lsc\n",
    "        )\n",
    "    ]\n",
    "\n",
    "    config = TreeConfig(config, gsc, sprout_cond)\n",
    "    return DemeTree(config)"
   ]
  },
  {
   "cell_type": "code",
   "execution_count": 7,
   "metadata": {},
   "outputs": [
    {
     "name": "stdout",
     "output_type": "stream",
     "text": [
      "Running separable_rastrigin(3)\n",
      "Best fitness: 16.91428887276919\n",
      "Numer of demes: 2\n",
      "Evaluation budget: 11870\n",
      "-\n",
      "Running attractive_sector(6)\n",
      "Best fitness: 5.607002599106181e-06\n",
      "Numer of demes: 2\n",
      "Evaluation budget: 11870\n",
      "-\n",
      "Running step_elipsoid(7)\n",
      "Best fitness: 0.026719969556040724\n",
      "Numer of demes: 3\n",
      "Evaluation budget: 11880\n",
      "-\n",
      "Running bent_cigar(12)\n",
      "Best fitness: 26.17955581098795\n",
      "Numer of demes: 2\n",
      "Evaluation budget: 11870\n",
      "-\n",
      "Running asymetric_rastrigin(15)\n",
      "Best fitness: 10.94454306615171\n",
      "Numer of demes: 2\n",
      "Evaluation budget: 11870\n",
      "-\n",
      "Running griewank_rosenbrock(19)\n",
      "Best fitness: 8.02664203956239\n",
      "Numer of demes: 2\n",
      "Evaluation budget: 11870\n",
      "-\n",
      "Running katsuura(23)\n",
      "Best fitness: 8.703176263705018\n",
      "Numer of demes: 2\n",
      "Evaluation budget: 11870\n",
      "-\n",
      "Running lunacek_rastrigin(24)\n",
      "Best fitness: 18.36394202849054\n",
      "Numer of demes: 2\n",
      "Evaluation budget: 11870\n",
      "-\n"
     ]
    }
   ],
   "source": [
    "for name, problem in testbed.items():\n",
    "    hms_tree = setup_hms_with_de_for_bbob(FunctionProblem(problem[0], maximize=False), np.array(bounds_base*dimensionality))\n",
    "    print(f\"Running {name}\")\n",
    "    while not hms_tree._gsc(hms_tree):\n",
    "        hms_tree.metaepoch_count += 1\n",
    "        hms_tree.run_metaepoch()\n",
    "        if not hms_tree._gsc(hms_tree):\n",
    "            hms_tree.run_sprout()\n",
    "\n",
    "    f = lambda x: lvl_1_generations if x == 1 else lvl_2_generations\n",
    "    print(f\"Best fitness: {np.max(hms_tree.optima).fitness - problem[1]}\")\n",
    "    print(f\"Numer of demes: {len(hms_tree.all_demes)}\")\n",
    "    print(f\"Evaluation budget: {np.sum([np.sum([len(pop) for pop in deme.history])*(f(level)) for level, deme in hms_tree.all_demes])}\")\n",
    "    print('-')"
   ]
  },
  {
   "cell_type": "markdown",
   "metadata": {},
   "source": [
    "#### Testing second attempt at deme hibernation"
   ]
  },
  {
   "cell_type": "code",
   "execution_count": 18,
   "metadata": {},
   "outputs": [],
   "source": [
    "bounds_base = [(-5.0, 5.0)]\n",
    "gsc = metaepoch_limit(240)\n",
    "lvl_2_lsc = dont_stop()\n",
    "lvl_1_generations = 1\n",
    "lvl_2_generations = 8\n",
    "pop_size = 40\n",
    "dither = True\n",
    "mutation_std = 1.0\n",
    "sigma0 = 1.5\n",
    "\n",
    "dimensionality = 10\n",
    "\n",
    "sprout_cond = SproutMechanism(NBC_Generator(2.0, 0.4), [NBC_FarEnough(1.5, 2), DemeLimit(1)], [LevelLimit(6)])"
   ]
  },
  {
   "cell_type": "code",
   "execution_count": 13,
   "metadata": {},
   "outputs": [],
   "source": [
    "def setup_hibernating_hms_for_bbob(function_problem, bounds):\n",
    "\n",
    "    config = [\n",
    "    EALevelConfig(\n",
    "        ea_class=SEA, \n",
    "        generations=lvl_1_generations, \n",
    "        problem=function_problem, \n",
    "        bounds=bounds, \n",
    "        pop_size=pop_size,\n",
    "        mutation_std=mutation_std,\n",
    "        lsc=dont_stop()\n",
    "        ),\n",
    "    CMALevelConfig(\n",
    "        generations=lvl_2_generations,\n",
    "        problem=function_problem, \n",
    "        bounds=bounds,\n",
    "        sigma0=sigma0,\n",
    "        lsc=lvl_2_lsc\n",
    "        )\n",
    "    ]\n",
    "\n",
    "    config = TreeConfig(config, gsc, sprout_cond, options={\"hibernation\": True})\n",
    "    return DemeTree(config)\n",
    "\n",
    "def setup_hibernating_hms_with_de_for_bbob(function_problem, bounds):\n",
    "\n",
    "    config = [\n",
    "    DELevelConfig(\n",
    "        generations=lvl_1_generations, \n",
    "        problem=function_problem, \n",
    "        bounds=bounds, \n",
    "        pop_size=pop_size,\n",
    "        dither=dither,\n",
    "        lsc=dont_stop()\n",
    "        ),\n",
    "    CMALevelConfig(\n",
    "        generations=lvl_2_generations,\n",
    "        problem=function_problem, \n",
    "        bounds=bounds,\n",
    "        sigma0=sigma0,\n",
    "        lsc=lvl_2_lsc\n",
    "        )\n",
    "    ]\n",
    "\n",
    "    config = TreeConfig(config, gsc, sprout_cond, options={\"hibernation\": True})\n",
    "    return DemeTree(config)"
   ]
  },
  {
   "cell_type": "code",
   "execution_count": 19,
   "metadata": {},
   "outputs": [
    {
     "name": "stdout",
     "output_type": "stream",
     "text": [
      "Running separable_rastrigin(3)\n",
      "Best fitness: 7.959667418927268\n",
      "Numer of demes: 12\n",
      "Evaluation budget: 8610\n",
      "-\n",
      "Running attractive_sector(6)\n",
      "Best fitness: 6.394884621840902e-14\n",
      "Numer of demes: 22\n",
      "Evaluation budget: 20700\n",
      "-\n",
      "Running step_elipsoid(7)\n",
      "Best fitness: 8.526512829121202e-14\n",
      "Numer of demes: 23\n",
      "Evaluation budget: 12180\n",
      "-\n",
      "Running bent_cigar(12)\n",
      "Best fitness: 1.1368683772161603e-13\n",
      "Numer of demes: 3\n",
      "Evaluation budget: 4560\n",
      "-\n",
      "Running asymetric_rastrigin(15)\n",
      "Best fitness: 5.969754342559781\n",
      "Numer of demes: 13\n",
      "Evaluation budget: 10160\n",
      "-\n",
      "Running griewank_rosenbrock(19)\n",
      "Best fitness: 0.5407227562029249\n",
      "Numer of demes: 2\n",
      "Evaluation budget: 3360\n",
      "-\n",
      "Running katsuura(23)\n",
      "Best fitness: 0.07792689747835446\n",
      "Numer of demes: 20\n",
      "Evaluation budget: 20890\n",
      "-\n",
      "Running lunacek_rastrigin(24)\n",
      "Best fitness: 13.669186452781375\n",
      "Numer of demes: 7\n",
      "Evaluation budget: 6960\n",
      "-\n"
     ]
    }
   ],
   "source": [
    "for name, problem in testbed.items():\n",
    "    hms_tree = setup_hibernating_hms_for_bbob(FunctionProblem(problem[0], maximize=False), np.array(bounds_base*dimensionality))\n",
    "    print(f\"Running {name}\")\n",
    "    while not hms_tree._gsc(hms_tree):\n",
    "        hms_tree.metaepoch_count += 1\n",
    "        hms_tree.run_metaepoch()\n",
    "        if not hms_tree._gsc(hms_tree):\n",
    "            hms_tree.run_sprout()\n",
    "\n",
    "    f = lambda x: lvl_1_generations if x == 1 else lvl_2_generations\n",
    "    print(f\"Best fitness: {np.max(hms_tree.optima).fitness - problem[1]}\")\n",
    "    print(f\"Numer of demes: {len(hms_tree.all_demes)}\")\n",
    "    print(f\"Evaluation budget: {np.sum([np.sum([len(pop) for pop in deme.history])*(f(level)) for level, deme in hms_tree.all_demes])}\")\n",
    "    print('-')"
   ]
  },
  {
   "cell_type": "code",
   "execution_count": 20,
   "metadata": {},
   "outputs": [
    {
     "name": "stdout",
     "output_type": "stream",
     "text": [
      "Running separable_rastrigin(3)\n",
      "Best fitness: 4.9747952854664845\n",
      "Numer of demes: 7\n",
      "Evaluation budget: 5010\n",
      "-\n",
      "Running attractive_sector(6)\n",
      "Best fitness: 7.105427357601002e-14\n",
      "Numer of demes: 5\n",
      "Evaluation budget: 4350\n",
      "-\n",
      "Running step_elipsoid(7)\n",
      "Best fitness: 0.018398064173467787\n",
      "Numer of demes: 14\n",
      "Evaluation budget: 7320\n",
      "-\n",
      "Running bent_cigar(12)\n",
      "Best fitness: 1.1368683772161603e-13\n",
      "Numer of demes: 3\n",
      "Evaluation budget: 3690\n",
      "-\n",
      "Running asymetric_rastrigin(15)\n",
      "Best fitness: 9.949585533113918\n",
      "Numer of demes: 7\n",
      "Evaluation budget: 5010\n",
      "-\n",
      "Running griewank_rosenbrock(19)\n",
      "Best fitness: 0.43284508033224256\n",
      "Numer of demes: 2\n",
      "Evaluation budget: 3360\n",
      "-\n",
      "Running katsuura(23)\n",
      "Best fitness: 0.1318692786315161\n",
      "Numer of demes: 8\n",
      "Evaluation budget: 7950\n",
      "-\n",
      "Running lunacek_rastrigin(24)\n",
      "Best fitness: 9.409623760716244\n",
      "Numer of demes: 6\n",
      "Evaluation budget: 4680\n",
      "-\n"
     ]
    }
   ],
   "source": [
    "for name, problem in testbed.items():\n",
    "    hms_tree = setup_hibernating_hms_with_de_for_bbob(FunctionProblem(problem[0], maximize=False), np.array(bounds_base*dimensionality))\n",
    "    print(f\"Running {name}\")\n",
    "    while not hms_tree._gsc(hms_tree):\n",
    "        hms_tree.metaepoch_count += 1\n",
    "        hms_tree.run_metaepoch()\n",
    "        if not hms_tree._gsc(hms_tree):\n",
    "            hms_tree.run_sprout()\n",
    "\n",
    "    f = lambda x: lvl_1_generations if x == 1 else lvl_2_generations\n",
    "    print(f\"Best fitness: {np.max(hms_tree.optima).fitness - problem[1]}\")\n",
    "    print(f\"Numer of demes: {len(hms_tree.all_demes)}\")\n",
    "    print(f\"Evaluation budget: {np.sum([np.sum([len(pop) for pop in deme.history])*(f(level)) for level, deme in hms_tree.all_demes])}\")\n",
    "    print('-')"
   ]
  },
  {
   "cell_type": "markdown",
   "metadata": {},
   "source": [
    "#### Testing with added local optimization demes"
   ]
  },
  {
   "cell_type": "code",
   "execution_count": null,
   "metadata": {},
   "outputs": [],
   "source": []
  },
  {
   "cell_type": "markdown",
   "metadata": {},
   "source": [
    "#### Visualizing populations over time"
   ]
  },
  {
   "cell_type": "code",
   "execution_count": null,
   "metadata": {},
   "outputs": [],
   "source": []
  }
 ],
 "metadata": {
  "kernelspec": {
   "display_name": "venv",
   "language": "python",
   "name": "python3"
  },
  "language_info": {
   "codemirror_mode": {
    "name": "ipython",
    "version": 3
   },
   "file_extension": ".py",
   "mimetype": "text/x-python",
   "name": "python",
   "nbconvert_exporter": "python",
   "pygments_lexer": "ipython3",
   "version": "3.11.5"
  }
 },
 "nbformat": 4,
 "nbformat_minor": 2
}
