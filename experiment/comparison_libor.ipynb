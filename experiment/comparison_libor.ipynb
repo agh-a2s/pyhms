{
 "cells": [
  {
   "cell_type": "code",
   "execution_count": 1,
   "metadata": {},
   "outputs": [],
   "source": [
    "from Libor_Formula.TaskC_FormulaNewPoints import evaluate"
   ]
  },
  {
   "cell_type": "code",
   "execution_count": 2,
   "metadata": {},
   "outputs": [],
   "source": [
    "import os\n",
    "import sys\n",
    "import random\n",
    "module_path = os.path.abspath(os.path.join('..'))\n",
    "if module_path not in sys.path:\n",
    "    sys.path.append(module_path)"
   ]
  },
  {
   "cell_type": "code",
   "execution_count": 3,
   "metadata": {},
   "outputs": [],
   "source": [
    "import copy\n",
    "import numpy as np\n",
    "import pickle as pkl\n",
    "from pyhms.hms import hms\n",
    "from pyhms.tree import DemeTree\n",
    "from pyhms.config import EALevelConfig, CMALevelConfig\n",
    "from pyhms.demes.single_pop_eas.sea import SEA\n",
    "from pyhms.problem import EvalCutoffProblem, FunctionProblem\n",
    "from pyhms.sprout.sprout_mechanisms import SproutMechanism, get_simple_sprout\n",
    "from pyhms.sprout.sprout_filters import NBC_FarEnough, DemeLimit, LevelLimit\n",
    "from pyhms.sprout.sprout_generators import NBC_Generator\n",
    "from pyhms.stop_conditions.gsc import singular_problem_eval_limit_reached\n",
    "from pyhms.stop_conditions.usc import metaepoch_limit, dont_stop"
   ]
  },
  {
   "cell_type": "code",
   "execution_count": 4,
   "metadata": {},
   "outputs": [],
   "source": [
    "import pyade.ilshade\n",
    "from cma import fmin2, CMAEvolutionStrategy"
   ]
  },
  {
   "cell_type": "markdown",
   "metadata": {},
   "source": [
    "----------"
   ]
  },
  {
   "cell_type": "code",
   "execution_count": 5,
   "metadata": {},
   "outputs": [],
   "source": [
    "def check_constraints(obtained_parameters):\n",
    "    w = obtained_parameters\n",
    "    if w[5] + w[6] > 0 and w[3] * w[4] - w[5] > 0 and w[3] * w[4] - w[5] - w[6] > 0 and abs(0.0322 * (w[5] + w[6]) - w[0]) - abs(w[0]) > 0:\n",
    "        return True\n",
    "    else:\n",
    "        return False"
   ]
  },
  {
   "cell_type": "code",
   "execution_count": 6,
   "metadata": {},
   "outputs": [],
   "source": [
    "def constrained_evaluate(w):\n",
    "    if check_constraints(w):\n",
    "        return evaluate(w)\n",
    "    else:\n",
    "        return 2*evaluate(w) + 0.1"
   ]
  },
  {
   "cell_type": "code",
   "execution_count": 7,
   "metadata": {},
   "outputs": [],
   "source": [
    "def get_historic_best(tree: DemeTree) -> float:\n",
    "    minimum = 2147483647.0\n",
    "\n",
    "    for _, deme in tree.all_demes:\n",
    "        for pop in deme.history:\n",
    "            for ind in pop:\n",
    "                if ind.fitness < minimum and check_constraints(ind.genome):\n",
    "                    minimum = ind.fitness\n",
    "    return minimum"
   ]
  },
  {
   "cell_type": "code",
   "execution_count": 8,
   "metadata": {},
   "outputs": [],
   "source": [
    "OLD_CONFIG = {'far_enough': 16.85391591224264, 'generations1': 2, 'generations2': 6, 'level_limit': 4, 'meataepoch2': 6, 'mutation1': 2.5459184638416805, 'mutation2': 0.2906046628084067, 'pop1': 78, 'pop2': 35, 'sample_dev2': 0.9618745655809818}\n",
    "NEW_CONFIG = {'generations1': 1, 'generations2': 2, 'level_limit': 5, 'meataepoch2': 6, 'mutation1': 0.4789120293659853, 'mutation2': 0.16658384975799623, 'nbc_cut': 1.7549302039405932, 'nbc_far': 3.9921360310330574, 'nbc_trunc': 0.29400968309797937, 'pop1': 103, 'pop2': 24, 'sample_dev2': 0.9038384697854606}\n",
    "BOUNDS = np.array([[0, 500], [0, 500], [0, 1000], [0, 2500], [0, 2500], [-250, 250], [-250, 250], [0, 1000]])\n",
    "PARAMETER_MULTIPLIER = np.mean([b[1] - b[0] for b in BOUNDS]) / 10.0 # Divided by BBOB domain size per dimension\n",
    "DIM_NUMBER = 8\n",
    "LIBOR_TASK = EvalCutoffProblem(FunctionProblem(constrained_evaluate, maximize=False), 9500, 0.0)"
   ]
  },
  {
   "cell_type": "code",
   "execution_count": null,
   "metadata": {},
   "outputs": [],
   "source": [
    "def new_evaluator_sea_2(config, eval_limit, dim_number, function_problem, random_state):\n",
    "    gsc = singular_problem_eval_limit_reached(limit=eval_limit)\n",
    "    sprout = SproutMechanism(NBC_Generator(config[\"nbc_cut\"], config[\"nbc_trunc\"]), \n",
    "                                [NBC_FarEnough(config[\"nbc_far\"], 2), DemeLimit(1)], \n",
    "                                [LevelLimit(config[\"level_limit\"])])\n",
    "    problem=copy.deepcopy(function_problem)\n",
    "    options = {'hibernation': False, 'random_state': random_state}\n",
    "\n",
    "    config_sea2 = [\n",
    "    EALevelConfig(\n",
    "        ea_class=SEA, \n",
    "        generations=config[\"generations1\"],\n",
    "        problem=problem, \n",
    "        bounds=BOUNDS, \n",
    "        pop_size=config[\"pop1\"],\n",
    "        mutation_std=config[\"mutation1\"]*PARAMETER_MULTIPLIER,\n",
    "        lsc=dont_stop()\n",
    "        ),\n",
    "    EALevelConfig(\n",
    "        ea_class=SEA, \n",
    "        generations=config[\"generations2\"], \n",
    "        problem=problem, \n",
    "        bounds=BOUNDS, \n",
    "        pop_size=config[\"pop2\"],\n",
    "        mutation_std=config[\"mutation2\"]*PARAMETER_MULTIPLIER,\n",
    "        sample_std_dev=config[\"sample_dev2\"],\n",
    "        lsc=metaepoch_limit(config[\"meataepoch2\"]),\n",
    "        run_minimize=True\n",
    "        )\n",
    "    ]\n",
    "    tree = hms(level_config=config_sea2, gsc=gsc, sprout_cond=sprout, options=options)\n",
    "    return tree\n",
    "\n",
    "def old_evaluator_sea_2(config, eval_limit, dim_number, function_problem, random_state):\n",
    "    gsc = singular_problem_eval_limit_reached(limit=eval_limit)\n",
    "    sprout = get_simple_sprout(far_enough=config['far_enough']*PARAMETER_MULTIPLIER, level_limit=config['level_limit'])\n",
    "    problem=copy.deepcopy(function_problem)\n",
    "    options = {'hibernation': False, 'random_state': random_state}\n",
    "\n",
    "    config_sea2 = [\n",
    "    EALevelConfig(\n",
    "        ea_class=SEA, \n",
    "        generations=config[\"generations1\"],\n",
    "        problem=problem, \n",
    "        bounds=BOUNDS, \n",
    "        pop_size=config[\"pop1\"],\n",
    "        mutation_std=config[\"mutation1\"]*PARAMETER_MULTIPLIER,\n",
    "        lsc=dont_stop()\n",
    "        ),\n",
    "    EALevelConfig(\n",
    "        ea_class=SEA, \n",
    "        generations=config[\"generations2\"], \n",
    "        problem=problem, \n",
    "        bounds=BOUNDS, \n",
    "        pop_size=config[\"pop2\"],\n",
    "        mutation_std=config[\"mutation2\"]*PARAMETER_MULTIPLIER,\n",
    "        sample_std_dev=config[\"sample_dev2\"],\n",
    "        lsc=metaepoch_limit(config[\"meataepoch2\"]),\n",
    "        run_minimize=True\n",
    "        )\n",
    "    ]\n",
    "    tree = hms(level_config=config_sea2, gsc=gsc, sprout_cond=sprout, options=options)\n",
    "    return tree"
   ]
  },
  {
   "cell_type": "code",
   "execution_count": null,
   "metadata": {},
   "outputs": [],
   "source": [
    "old_bests = []\n",
    "for i in range(50):\n",
    "    if i % 10 == 0:\n",
    "        print(\"gen {gen}\".format(gen=i))\n",
    "    old_tree = old_evaluator_sea_2(OLD_CONFIG, 9500, DIM_NUMBER, LIBOR_TASK, random_state=i+1)\n",
    "    old_tree.run()\n",
    "    old_bests.append(get_historic_best(old_tree))"
   ]
  },
  {
   "cell_type": "code",
   "execution_count": null,
   "metadata": {},
   "outputs": [],
   "source": [
    "print(\"{:.1e}\".format(np.mean(old_bests)), \"{:.1e}\".format(np.std(old_bests)))"
   ]
  },
  {
   "cell_type": "code",
   "execution_count": null,
   "metadata": {},
   "outputs": [],
   "source": [
    "new_bests = []\n",
    "for i in range(50):\n",
    "    if i % 10 == 0:\n",
    "        print(\"gen {gen}\".format(gen=i))\n",
    "    new_tree = new_evaluator_sea_2(NEW_CONFIG, 9500, DIM_NUMBER, LIBOR_TASK, random_state=i+1)\n",
    "    new_tree.run()\n",
    "    new_bests.append(get_historic_best(new_tree))"
   ]
  },
  {
   "cell_type": "code",
   "execution_count": null,
   "metadata": {},
   "outputs": [],
   "source": [
    "print(\"{:.1e}\".format(np.mean(new_bests)), \"{:.1e}\".format(np.std(new_bests)))"
   ]
  },
  {
   "cell_type": "markdown",
   "metadata": {},
   "source": [
    "------------"
   ]
  },
  {
   "cell_type": "code",
   "execution_count": 9,
   "metadata": {},
   "outputs": [],
   "source": [
    "def create_ilshade_callback(pop, fit):\n",
    "    def ilshade_callback(**kwargs):\n",
    "        pop.append(kwargs['population'])\n",
    "        fit.append(kwargs['fitness'])\n",
    "    return ilshade_callback\n",
    "\n",
    "def create_cma_callback(pop):\n",
    "    def cma_callback(current_cma: CMAEvolutionStrategy):\n",
    "        pop.append(current_cma.pop_sorted)\n",
    "    return cma_callback\n",
    "    \n",
    "def get_best_under_constraints(pop, fit):\n",
    "    minima = 2147483647.0\n",
    "    for i in range(len(pop)):\n",
    "        if fit[i] < minima and check_constraints(pop[i]):\n",
    "            minima = fit[i]\n",
    "    return minima"
   ]
  },
  {
   "cell_type": "code",
   "execution_count": 10,
   "metadata": {},
   "outputs": [
    {
     "name": "stdout",
     "output_type": "stream",
     "text": [
      "gen 0\n",
      "gen 10\n",
      "gen 20\n",
      "gen 30\n",
      "gen 40\n"
     ]
    }
   ],
   "source": [
    "algorithm = pyade.ilshade\n",
    "\n",
    "ilshade_pop = []\n",
    "ilshade_fit = []\n",
    "\n",
    "params = algorithm.get_default_params(dim=8)\n",
    "params['bounds'] = BOUNDS\n",
    "params['func'] = constrained_evaluate\n",
    "params['max_evals'] = 9500\n",
    "params['callback'] = create_ilshade_callback(ilshade_pop, ilshade_fit)\n",
    "params['population_size'] = 79\n",
    "params['memory_size']\n",
    "\n",
    "ilshade_bests = []\n",
    "for i in range(50):\n",
    "    if i % 10 == 0:\n",
    "        print(\"gen {gen}\".format(gen=i))\n",
    "    random.seed(i+1)\n",
    "    np.random.seed(i+1)\n",
    "    solution, fitness = algorithm.apply(**params)\n",
    "    ilshade_bests.append(get_best_under_constraints([ind for pop in ilshade_pop for ind in pop], [fit for fpop in ilshade_fit for fit in fpop]))\n",
    "    ilshade_pop.clear()\n",
    "    ilshade_fit.clear()"
   ]
  },
  {
   "cell_type": "code",
   "execution_count": 11,
   "metadata": {},
   "outputs": [
    {
     "name": "stdout",
     "output_type": "stream",
     "text": [
      "3.5e-04 2.1e-04\n"
     ]
    }
   ],
   "source": [
    "print(\"{:.1e}\".format(np.mean(ilshade_bests)), \"{:.1e}\".format(np.std(ilshade_bests)))"
   ]
  },
  {
   "cell_type": "code",
   "execution_count": 12,
   "metadata": {},
   "outputs": [
    {
     "name": "stdout",
     "output_type": "stream",
     "text": [
      "gen 0\n",
      "gen 10\n",
      "gen 20\n",
      "gen 30\n",
      "gen 40\n"
     ]
    }
   ],
   "source": [
    "cma_lb = [b[0] for b in BOUNDS]\n",
    "cma_ub = [b[1] for b in BOUNDS]\n",
    "start = np.mean(np.stack([cma_lb, cma_ub]), axis=0)\n",
    "sigma0 = 3.198595880444435*PARAMETER_MULTIPLIER\n",
    "cma_pops = []\n",
    "cma_call = create_cma_callback(cma_pops)\n",
    "\n",
    "options = {'bounds': [cma_lb, cma_ub], 'verbose': -9, 'maxfevals': 9500, 'seed':i+1, 'randn':np.random.randn, 'popsize': 15, 'tolfun': 3.262297273400133e-10}\n",
    "\n",
    "cma_bests = []\n",
    "for i in range(50):\n",
    "    if i % 10 == 0:\n",
    "        print(\"gen {gen}\".format(gen=i))\n",
    "    random.seed(i+1)\n",
    "    np.random.seed(i+1)\n",
    "    best, es = fmin2(constrained_evaluate, start, sigma0, options=options, bipop=True, restart_from_best=True, restarts=10, callback=cma_call, incpopsize=2)\n",
    "    whole_pop = [(pop, evaluate(pop)) for popul in cma_pops for pop in popul]\n",
    "    cma_bests.append(get_best_under_constraints([ind[0] for ind in whole_pop], [ind[1] for ind in whole_pop]))\n",
    "    cma_pops.clear()"
   ]
  },
  {
   "cell_type": "code",
   "execution_count": 13,
   "metadata": {},
   "outputs": [
    {
     "name": "stdout",
     "output_type": "stream",
     "text": [
      "4.0e-03 8.7e-19\n"
     ]
    }
   ],
   "source": [
    "print(\"{:.1e}\".format(np.mean(cma_bests)), \"{:.1e}\".format(np.std(cma_bests)))"
   ]
  }
 ],
 "metadata": {
  "kernelspec": {
   "display_name": "venv",
   "language": "python",
   "name": "python3"
  },
  "language_info": {
   "codemirror_mode": {
    "name": "ipython",
    "version": 3
   },
   "file_extension": ".py",
   "mimetype": "text/x-python",
   "name": "python",
   "nbconvert_exporter": "python",
   "pygments_lexer": "ipython3",
   "version": "3.11.5"
  }
 },
 "nbformat": 4,
 "nbformat_minor": 2
}
