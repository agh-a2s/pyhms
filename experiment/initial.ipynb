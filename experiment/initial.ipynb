{
 "cells": [
  {
   "cell_type": "markdown",
   "metadata": {},
   "source": [
    "### Import neccesary tools"
   ]
  },
  {
   "cell_type": "code",
   "execution_count": 2,
   "metadata": {},
   "outputs": [],
   "source": [
    "import os\n",
    "import sys\n",
    "module_path = os.path.abspath(os.path.join('..'))\n",
    "if module_path not in sys.path:\n",
    "    sys.path.append(module_path)"
   ]
  },
  {
   "cell_type": "code",
   "execution_count": 1,
   "metadata": {},
   "outputs": [],
   "source": [
    "from cma.bbobbenchmarks import instantiate\n",
    "from leap_ec.problem import FunctionProblem\n",
    "import numpy as np"
   ]
  },
  {
   "cell_type": "code",
   "execution_count": 4,
   "metadata": {},
   "outputs": [],
   "source": [
    "from pyhms.config import TreeConfig, CMALevelConfig, EALevelConfig\n",
    "from pyhms.tree import DemeTree\n",
    "from pyhms.demes.single_pop_eas.sea import SEA\n",
    "from pyhms.sprout.sprout_mechanisms import get_simple_sprout, get_NBC_sprout, SproutMechanism\n",
    "from pyhms.sprout.sprout_filters import NBC_FarEnough, DemeLimit, LevelLimit\n",
    "from pyhms.sprout.sprout_generators import NBC_Generator\n",
    "from pyhms.stop_conditions.usc import dont_stop, metaepoch_limit\n",
    "from pyhms.utils.misc_util import compute_centroid"
   ]
  },
  {
   "cell_type": "markdown",
   "metadata": {},
   "source": [
    "### Prepare function instances\n",
    "As for the initial test, the first instance of every BBOB function in 5 and 20 dimensions. The target is fitness after 10000 evaluations"
   ]
  },
  {
   "cell_type": "code",
   "execution_count": null,
   "metadata": {},
   "outputs": [],
   "source": []
  },
  {
   "cell_type": "code",
   "execution_count": null,
   "metadata": {},
   "outputs": [],
   "source": []
  },
  {
   "cell_type": "markdown",
   "metadata": {},
   "source": [
    "### Prepare algorithms\n",
    "For start pyhms with base sprout, NBC sprout with 0.5 truncation and GA for baseline."
   ]
  },
  {
   "cell_type": "code",
   "execution_count": null,
   "metadata": {},
   "outputs": [],
   "source": []
  },
  {
   "cell_type": "markdown",
   "metadata": {},
   "source": [
    "### "
   ]
  }
 ],
 "metadata": {
  "kernelspec": {
   "display_name": "venv",
   "language": "python",
   "name": "python3"
  },
  "language_info": {
   "codemirror_mode": {
    "name": "ipython",
    "version": 3
   },
   "file_extension": ".py",
   "mimetype": "text/x-python",
   "name": "python",
   "nbconvert_exporter": "python",
   "pygments_lexer": "ipython3",
   "version": "3.11.5"
  }
 },
 "nbformat": 4,
 "nbformat_minor": 2
}
