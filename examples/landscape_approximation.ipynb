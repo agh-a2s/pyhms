{
 "cells": [
  {
   "cell_type": "markdown",
   "metadata": {},
   "source": [
    "## Landscape Approximation"
   ]
  },
  {
   "cell_type": "markdown",
   "metadata": {},
   "source": [
    "### C-Shaped Plateau Function Description\n",
    "\n",
    "The C-shaped plateau region is a benchmark problem designed to test the performance of optimization algorithms, particularly in regions where the fitness landscape has plateaus or low-gradient areas. The domain for this test is defined as $\\mathcal{D} = [-3, 3]^2$, and the fitness function, denoted as $f_C(x)$, is constructed as the product of Gaussian-based functions.\n",
    "\n",
    "#### Fitness Function Definition\n",
    "\n",
    "The benchmark fitness function $f_C(x)$ is mathematically represented as:\n",
    "\n",
    "$$f_C(x) = g^{(1, 0.5)}_{(0, 1.5)}(x) \\cdot g^{(0.5, 1)}_{(1.5, 0)}(x) \\cdot g^{(1, 0.5)}_{(0, -1.5)}(x)$$\n",
    "\n",
    "where $g^{(a,b)}_{(c,d)}(x)$ represents a Gaussian function centered at the point $(c,d)$ with covariance parameters $a$ and $b$ determining the spread along the respective axes. The plateau formed by this function $f_C(x)$ creates a C-shaped valley, which comprises 6.2% of the entire domain. This specific shape and coverage make it a challenging landscape for optimization algorithms, as they must effectively explore and navigate the flat regions of the landscape."
   ]
  },
  {
   "cell_type": "code",
   "execution_count": null,
   "metadata": {},
   "outputs": [],
   "source": [
    "import numpy as np\n",
    "\n",
    "\n",
    "def gaussian_benchmark(x, x0, r):\n",
    "    \"\"\"\n",
    "    Calculate the Gaussian-based benchmark function.\n",
    "\n",
    "    Parameters:\n",
    "    x (numpy array): Input vector.\n",
    "    x0 (numpy array): Center vector.\n",
    "    r (numpy array): Vector of parameters determining the spread along each axis.\n",
    "\n",
    "    Returns:\n",
    "    float: Value of the benchmark function.\n",
    "    \"\"\"\n",
    "    # Create diagonal matrix S with S_{i,i} = 1/r_i\n",
    "    S = np.diag(1.0 / r)\n",
    "    diff = x - x0\n",
    "    exponent = -np.dot(np.dot(diff.T, S), diff)\n",
    "    return 1 - np.exp(exponent)\n",
    "\n",
    "\n",
    "def flat_transform(s):\n",
    "    \"\"\"\n",
    "    Apply flattening transformation to function value.\n",
    "    \n",
    "    Parameters:\n",
    "    s (float): Function value to transform.\n",
    "    \n",
    "    Returns:\n",
    "    float: Transformed value max(2s-1, 0).\n",
    "    \"\"\"\n",
    "    return max(2 * s - 1, 0)\n",
    "\n",
    "\n",
    "def c_shaped_plateau(x):\n",
    "    \"\"\"\n",
    "    Calculate the C-shaped plateau function f_C(x) with flattening.\n",
    "\n",
    "    Parameters:\n",
    "    x (numpy array): Input vector.\n",
    "\n",
    "    Returns:\n",
    "    float: Value of the C-shaped plateau function after flattening.\n",
    "    \"\"\"\n",
    "    # Define the r parameters for each Gaussian\n",
    "    r_params = [\n",
    "        np.array([1.0, 0.5]),\n",
    "        np.array([0.5, 1.0]),\n",
    "        np.array([1.0, 0.5]),\n",
    "    ]\n",
    "\n",
    "    # Define the center vectors\n",
    "    centers = [\n",
    "        np.array([0.0, 1.5]),\n",
    "        np.array([1.5, 0.0]),\n",
    "        np.array([0.0, -1.5]),\n",
    "    ]\n",
    "\n",
    "    # Compute the product of all g functions\n",
    "    f_C = 1.0\n",
    "    for x0, r in zip(centers, r_params):\n",
    "        f_C *= gaussian_benchmark(x, x0, r)\n",
    "\n",
    "    # Apply the flattening transformation\n",
    "    return flat_transform(f_C)"
   ]
  },
  {
   "cell_type": "markdown",
   "metadata": {},
   "source": [
    "#### HMS\n",
    "We prepare an HMS config and we run it with a budget of 10000 evaluations."
   ]
  },
  {
   "cell_type": "code",
   "execution_count": null,
   "metadata": {},
   "outputs": [],
   "source": [
    "from pyhms.core.problem import EvalCountingProblem, FunctionProblem\n",
    "from pyhms import (\n",
    "    EALevelConfig,\n",
    "    DontStop,\n",
    "    MetaepochLimit,\n",
    "    SingularProblemEvalLimitReached,\n",
    "    SEA,\n",
    "    CMALevelConfig,\n",
    "    TreeConfig,\n",
    "    DemeTree,\n",
    ")\n",
    "from pyhms.sprout import get_NBC_sprout\n",
    "from pyhms.demes.single_pop_eas.sea import SEA\n",
    "\n",
    "N = 2\n",
    "bounds = np.array([(-3, 3)] * N)\n",
    "\n",
    "problem = FunctionProblem(c_shaped_plateau, maximize=False, bounds=bounds)\n",
    "counting_problem = EvalCountingProblem(problem)\n",
    "tree_config = [\n",
    "    EALevelConfig(\n",
    "        ea_class=SEA,\n",
    "        generations=1,\n",
    "        problem=counting_problem,\n",
    "        pop_size=100,\n",
    "        mutation_std=1.0,\n",
    "        k_elites=5,\n",
    "        election_group_size=30,\n",
    "        lsc=DontStop(),\n",
    "        p_mutation=0.8,\n",
    "        p_crossover=0.3,\n",
    "        mutation_std_step=0.1,\n",
    "    ),\n",
    "    CMALevelConfig(\n",
    "        generations=20, problem=counting_problem, lsc=MetaepochLimit(10), sigma0=1.0\n",
    "    ),\n",
    "]\n",
    "\n",
    "global_stop_condition = SingularProblemEvalLimitReached(10000)\n",
    "\n",
    "sprout_condition = get_NBC_sprout()\n",
    "config = TreeConfig(\n",
    "    tree_config, global_stop_condition, sprout_condition, options={\"random_seed\": 1}\n",
    ")\n",
    "hms_tree = DemeTree(config)\n",
    "hms_tree.run()"
   ]
  },
  {
   "cell_type": "markdown",
   "metadata": {},
   "source": [
    "#### Landscape Approximation\n",
    "We use a default `LandscapeApproximator` with `HillValleyMergeCondition`."
   ]
  },
  {
   "cell_type": "code",
   "execution_count": null,
   "metadata": {},
   "outputs": [],
   "source": [
    "from pyhms.cluster.landscape_approximator import LandscapeApproximator\n",
    "from pyhms.cluster.merge_conditions import (\n",
    "    HillValleyMergeCondition,\n",
    ")\n",
    "from pyhms.demes.single_pop_eas.sea import MWEA\n",
    "\n",
    "problem = FunctionProblem(c_shaped_plateau, maximize=False, bounds=bounds)\n",
    "\n",
    "mwea = MWEA.create(problem=problem, mutation_std=0.2, p_mutation=0.35)\n",
    "\n",
    "la = LandscapeApproximator(\n",
    "    hms_tree=hms_tree,\n",
    "    merge_condition=HillValleyMergeCondition(\n",
    "        FunctionProblem(c_shaped_plateau, maximize=False, bounds=bounds), k=10\n",
    "    ),\n",
    "    local_basin_epochs=10,\n",
    "    mwea=mwea,\n",
    ")\n",
    "la.fit()\n",
    "la.plot(filepath=\"kriging.eps\")"
   ]
  },
  {
   "cell_type": "markdown",
   "metadata": {},
   "source": [
    "#### Problem visualization"
   ]
  },
  {
   "cell_type": "code",
   "execution_count": null,
   "metadata": {},
   "outputs": [],
   "source": [
    "hms_tree.plot_problem_surface()"
   ]
  },
  {
   "cell_type": "markdown",
   "metadata": {},
   "source": [
    "#### Local Basin Populations"
   ]
  },
  {
   "cell_type": "code",
   "execution_count": null,
   "metadata": {},
   "outputs": [],
   "source": [
    "import plotly.express as px\n",
    "\n",
    "reduced_clusters = la.cluster_reducer.reduce_clusters(la.clusters)\n",
    "local_basin_population = la.local_basin_agent_executor(reduced_clusters)\n",
    "\n",
    "px.scatter(\n",
    "    x=local_basin_population.genomes[:, 0],\n",
    "    y=local_basin_population.genomes[:, 1],\n",
    ")"
   ]
  }
 ],
 "metadata": {
  "kernelspec": {
   "display_name": ".venv",
   "language": "python",
   "name": "python3"
  },
  "language_info": {
   "codemirror_mode": {
    "name": "ipython",
    "version": 3
   },
   "file_extension": ".py",
   "mimetype": "text/x-python",
   "name": "python",
   "nbconvert_exporter": "python",
   "pygments_lexer": "ipython3"
  }
 },
 "nbformat": 4,
 "nbformat_minor": 2
}
