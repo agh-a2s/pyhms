{
 "cells": [
  {
   "cell_type": "code",
   "execution_count": null,
   "metadata": {},
   "outputs": [],
   "source": [
    "# To run this notebook on Google Colab, uncomment the following lines:\n",
    "# !pip install pyhms --upgrade --force-reinstall"
   ]
  },
  {
   "cell_type": "code",
   "execution_count": null,
   "metadata": {},
   "outputs": [],
   "source": [
    "import numpy as np\n",
    "from pyhms import (\n",
    "    hms,\n",
    "    EALevelConfig,\n",
    "    CMALevelConfig,\n",
    "    DemeTree,\n",
    "    DontStop,\n",
    "    MetaepochLimit,\n",
    "    FunctionProblem,\n",
    "    EvalCutoffProblem,\n",
    "    FitnessEvalLimitReached,\n",
    "    get_NBC_sprout,\n",
    ")\n",
    "\n",
    "DEFAULT_CENTERS = np.array([[-5.0, -5.0], [5.0, 5.0], [-5.0, 5.0], [5.0, -5.0]])\n",
    "\n",
    "\n",
    "class FunnelProblem:\n",
    "    def __init__(self, centers: np.ndarray | None = DEFAULT_CENTERS):\n",
    "        self.centers = centers\n",
    "\n",
    "    def __call__(self, x: np.ndarray) -> float:\n",
    "        return np.min([np.sum((x - center) ** 2) for center in self.centers])\n",
    "\n",
    "\n",
    "fitness_function = FunnelProblem()\n",
    "\n",
    "bounds = np.array([[-10.0, 10.0]] * 2)\n",
    "\n",
    "eval_cutoff = 1000\n",
    "problem = FunctionProblem(\n",
    "    fitness_function=fitness_function,\n",
    "    bounds=bounds,\n",
    "    maximize=False,\n",
    ")\n",
    "problem_with_cutoff = EvalCutoffProblem(\n",
    "    decorated_problem=problem,\n",
    "    eval_cutoff=eval_cutoff,\n",
    ")\n",
    "\n",
    "level_config = [\n",
    "    EALevelConfig(\n",
    "        generations=1,\n",
    "        problem=problem_with_cutoff,\n",
    "        pop_size=50,\n",
    "        lsc=DontStop(),\n",
    "    ),\n",
    "    CMALevelConfig(\n",
    "        generations=5,\n",
    "        problem=problem_with_cutoff,\n",
    "        lsc=MetaepochLimit(10),\n",
    "    ),\n",
    "]\n",
    "\n",
    "hms_tree: DemeTree = hms(\n",
    "    level_config=level_config,\n",
    "    gsc=FitnessEvalLimitReached(limit=eval_cutoff),\n",
    "    sprout_cond=get_NBC_sprout(),\n",
    "    options={\"random_seed\": 42}\n",
    ")\n",
    "\n",
    "hms_tree.plot_population(\n",
    "    show_grid=True, show_all_individuals=True, filepath=\"hms_tree.png\", show_scale=False\n",
    ")"
   ]
  },
  {
   "cell_type": "code",
   "execution_count": null,
   "metadata": {},
   "outputs": [],
   "source": [
    "hms_tree.tree_diagram(output_path=\"hms_tree_diagram\", format=\"png\")"
   ]
  },
  {
   "cell_type": "code",
   "execution_count": null,
   "metadata": {},
   "outputs": [],
   "source": [
    "print(hms_tree.summary())"
   ]
  },
  {
   "cell_type": "code",
   "execution_count": null,
   "metadata": {},
   "outputs": [],
   "source": [
    "hms_tree.plot_fitness_value_by_distance(filepath=\"distance_correlation.png\", group_by=\"deme\")"
   ]
  },
  {
   "cell_type": "code",
   "execution_count": null,
   "metadata": {},
   "outputs": [],
   "source": [
    "hms_tree.plot_fitness_value_by_distance(filepath=\"distance_correlation.png\", group_by=\"level\")"
   ]
  }
 ],
 "metadata": {
  "kernelspec": {
   "display_name": ".venv",
   "language": "python",
   "name": "python3"
  },
  "language_info": {
   "codemirror_mode": {
    "name": "ipython",
    "version": 3
   },
   "file_extension": ".py",
   "mimetype": "text/x-python",
   "name": "python",
   "nbconvert_exporter": "python",
   "pygments_lexer": "ipython3"
  }
 },
 "nbformat": 4,
 "nbformat_minor": 2
}
